{
 "cells": [
  {
   "cell_type": "markdown",
   "source": [
    "Activate the package from its development location\n",
    "import Pkg\n",
    "Pkg.activate(\"/home/lapeyre/.julia/gjl-quantum/QuantumOps\")"
   ],
   "metadata": {}
  },
  {
   "cell_type": "markdown",
   "source": [
    "First, import some identifiers for types"
   ],
   "metadata": {}
  },
  {
   "outputs": [],
   "cell_type": "code",
   "source": [
    "import QuantumOps ## Import the identifier `QuantumOps` for using fully qualified identifiers\n",
    "using QuantumOps: AbstractOp, AbstractFermiOp, FermiOp, AbstractPauli, Pauli, PauliI"
   ],
   "metadata": {},
   "execution_count": 1
  },
  {
   "cell_type": "markdown",
   "source": [
    "# QuantumOps\n",
    "## Overview\n",
    "`QuantumOps` is built mainly around three levels of operator types\n",
    "* `AbstractOp` representing single-particle Fermionic or Pauli operators\n",
    "* `OpTerm` a parametric type containing a string of operators as an `AbstractVector{<:AbstractOp}`\n",
    "  and a coefficient. `OpTerm` represents a multi-particle term. The string type may be a dense\n",
    " `Vector` or a `SparseVector` (with identities omitted). The coefficient may be numeric or symbolic.\n",
    "* `OpSum` a parametric type representing a sum of `OpTerm`s.\n",
    "\n",
    "Some features are\n",
    "* `QuantumOps` tries to make the structures and methods efficient, but there is little done to optimize\n",
    "   them. Still, `QuantumOps` is often one to three orders of magnitude faster\n",
    "   than Qiskit.\n",
    "* `QuantumOps` works together `ElectronicStructure.jl` to represent electonic Hamiltonians.\n",
    "*  The Jordan-Wigner transform is implemented as an example.\n",
    "\n",
    "## Simple operators -- `AbstractOp`\n",
    "Types for Fermionic and Pauli operators on a single mode or qubit have `AbstractOp` as an ancestor.\n",
    "We have"
   ],
   "metadata": {}
  },
  {
   "outputs": [
    {
     "output_type": "execute_result",
     "data": {
      "text/plain": "true"
     },
     "metadata": {},
     "execution_count": 2
    }
   ],
   "cell_type": "code",
   "source": [
    "FermiOp <: AbstractFermiOp <: AbstractOp"
   ],
   "metadata": {},
   "execution_count": 2
  },
  {
   "cell_type": "markdown",
   "source": [
    "and"
   ],
   "metadata": {}
  },
  {
   "outputs": [
    {
     "output_type": "execute_result",
     "data": {
      "text/plain": "true"
     },
     "metadata": {},
     "execution_count": 3
    }
   ],
   "cell_type": "code",
   "source": [
    "Pauli <: AbstractPauli <: AbstractOp"
   ],
   "metadata": {},
   "execution_count": 3
  },
  {
   "cell_type": "markdown",
   "source": [
    "There is an alternative encoding for Pauli operators"
   ],
   "metadata": {}
  },
  {
   "outputs": [
    {
     "output_type": "execute_result",
     "data": {
      "text/plain": "true"
     },
     "metadata": {},
     "execution_count": 4
    }
   ],
   "cell_type": "code",
   "source": [
    "PauliI <: AbstractPauli <: AbstractOp"
   ],
   "metadata": {},
   "execution_count": 4
  },
  {
   "cell_type": "markdown",
   "source": [
    "`PauliI` may be more efficient in some circumstances.\n",
    "None (almost) of `QuantumOps` is written explicitly against a subtype of `AbstractPauli`,\n",
    "so `Pauli` and `PauliI` may be used interchangeably. Eventually probably only one of the two will be retained.\n",
    "\n",
    "All subtypes of `AbstractPauliOp` may instantiated by an integer index like this"
   ],
   "metadata": {}
  },
  {
   "outputs": [
    {
     "output_type": "execute_result",
     "data": {
      "text/plain": "(Pauli: I, Pauli: X, Pauli: Y, Pauli: Z)"
     },
     "metadata": {},
     "execution_count": 5
    }
   ],
   "cell_type": "code",
   "source": [
    "(Pauli(0), Pauli(1), Pauli(2), Pauli(3))"
   ],
   "metadata": {},
   "execution_count": 5
  },
  {
   "cell_type": "markdown",
   "source": [
    "Recall that this expression may also be written using broadcasting like this"
   ],
   "metadata": {}
  },
  {
   "outputs": [
    {
     "output_type": "execute_result",
     "data": {
      "text/plain": "(Pauli: I, Pauli: X, Pauli: Y, Pauli: Z)"
     },
     "metadata": {},
     "execution_count": 6
    }
   ],
   "cell_type": "code",
   "source": [
    "Pauli.((0, 1, 2, 3))"
   ],
   "metadata": {},
   "execution_count": 6
  },
  {
   "cell_type": "markdown",
   "source": [
    "The alternate encoding works the same way"
   ],
   "metadata": {}
  },
  {
   "outputs": [
    {
     "output_type": "execute_result",
     "data": {
      "text/plain": "(PauliI: I, PauliI: X, PauliI: Y, PauliI: Z)"
     },
     "metadata": {},
     "execution_count": 7
    }
   ],
   "cell_type": "code",
   "source": [
    "PauliI.((0, 1, 2, 3))"
   ],
   "metadata": {},
   "execution_count": 7
  },
  {
   "cell_type": "markdown",
   "source": [
    "Seven (or maybe six) Fermi operators are supported"
   ],
   "metadata": {}
  },
  {
   "outputs": [
    {
     "output_type": "execute_result",
     "data": {
      "text/plain": "(FermiOp: I, FermiOp: N, FermiOp: E, FermiOp: +, FermiOp: -, FermiOp: 0, FermiOp: Z)"
     },
     "metadata": {},
     "execution_count": 8
    }
   ],
   "cell_type": "code",
   "source": [
    "FermiOp.((0:6...,))"
   ],
   "metadata": {},
   "execution_count": 8
  },
  {
   "cell_type": "markdown",
   "source": [
    "The symbols mean the following"
   ],
   "metadata": {}
  },
  {
   "cell_type": "markdown",
   "source": [
    "(I = identity, N = number, E = complement of number (empty), + = raising, - = lowering, 0 = zero, Z = N - E)"
   ],
   "metadata": {}
  },
  {
   "cell_type": "markdown",
   "source": [
    "For convenience, you can use variables that name the operators. For example"
   ],
   "metadata": {}
  },
  {
   "outputs": [
    {
     "output_type": "execute_result",
     "data": {
      "text/plain": "(Pauli: I, Pauli: X, Pauli: Y, Pauli: Z)"
     },
     "metadata": {},
     "execution_count": 9
    }
   ],
   "cell_type": "code",
   "source": [
    "using QuantumOps.Paulis: I, X, Y, Z\n",
    "(I, X, Y, Z)"
   ],
   "metadata": {},
   "execution_count": 9
  },
  {
   "cell_type": "markdown",
   "source": [
    "The same variables are defined for `PauliI`"
   ],
   "metadata": {}
  },
  {
   "outputs": [
    {
     "output_type": "execute_result",
     "data": {
      "text/plain": "PauliI: X"
     },
     "metadata": {},
     "execution_count": 10
    }
   ],
   "cell_type": "code",
   "source": [
    "QuantumOps.PaulisI.X"
   ],
   "metadata": {},
   "execution_count": 10
  },
  {
   "cell_type": "markdown",
   "source": [
    "The details of `Pauli`, `PauliI`, and `FermiOp` are hidden. For example, even `OpTerm` and supporting code\n",
    "knows nothing about them. But here is a look indside"
   ],
   "metadata": {}
  },
  {
   "outputs": [
    {
     "name": "stdout",
     "output_type": "stream",
     "text": [
      "Pauli\n",
      "  hi: Bool false\n",
      "  lo: Bool true\n"
     ]
    }
   ],
   "cell_type": "code",
   "source": [
    "dump(QuantumOps.Paulis.X)"
   ],
   "metadata": {},
   "execution_count": 11
  },
  {
   "outputs": [
    {
     "name": "stdout",
     "output_type": "stream",
     "text": [
      "PauliI\n",
      "  ind: Int64 1\n"
     ]
    }
   ],
   "cell_type": "code",
   "source": [
    "dump(QuantumOps.PaulisI.X)"
   ],
   "metadata": {},
   "execution_count": 12
  },
  {
   "outputs": [
    {
     "name": "stdout",
     "output_type": "stream",
     "text": [
      "FermiOp\n",
      "  ind: Int64 1\n"
     ]
    }
   ],
   "cell_type": "code",
   "source": [
    "dump(QuantumOps.FermiOps.NumberOp)"
   ],
   "metadata": {},
   "execution_count": 13
  },
  {
   "cell_type": "markdown",
   "source": [
    "## Multi-qubit/mode operators -- `OpTerm`\n",
    "Operators on multiple qubits or degrees of freedom, together with a coefficient, are represented by `OpTerm`."
   ],
   "metadata": {}
  },
  {
   "outputs": [],
   "cell_type": "code",
   "source": [
    "using QuantumOps: OpTerm, PauliTerm, FermiTerm"
   ],
   "metadata": {},
   "execution_count": 14
  },
  {
   "cell_type": "markdown",
   "source": [
    "`PauliTerm` and `FermiTerm` are aliases"
   ],
   "metadata": {}
  },
  {
   "outputs": [
    {
     "output_type": "execute_result",
     "data": {
      "text/plain": "PauliTerm (alias for OpTerm{Pauli, T} where T<:AbstractArray{Pauli, 1})"
     },
     "metadata": {},
     "execution_count": 15
    }
   ],
   "cell_type": "code",
   "source": [
    "OpTerm{Pauli}"
   ],
   "metadata": {},
   "execution_count": 15
  },
  {
   "outputs": [
    {
     "output_type": "execute_result",
     "data": {
      "text/plain": "FermiTerm (alias for OpTerm{FermiOp, T} where T<:AbstractArray{FermiOp, 1})"
     },
     "metadata": {},
     "execution_count": 16
    }
   ],
   "cell_type": "code",
   "source": [
    "OpTerm{FermiOp}"
   ],
   "metadata": {},
   "execution_count": 16
  },
  {
   "outputs": [
    {
     "output_type": "execute_result",
     "data": {
      "text/plain": "true"
     },
     "metadata": {},
     "execution_count": 17
    }
   ],
   "cell_type": "code",
   "source": [
    "PauliTerm == OpTerm{Pauli}"
   ],
   "metadata": {},
   "execution_count": 17
  },
  {
   "cell_type": "markdown",
   "source": [
    "`Pauli` is the default encoding, as there is no alias for `OpTerm{PauliI}`"
   ],
   "metadata": {}
  },
  {
   "outputs": [
    {
     "output_type": "execute_result",
     "data": {
      "text/plain": "OpTerm{PauliI, T} where T<:AbstractVector{PauliI}"
     },
     "metadata": {},
     "execution_count": 18
    }
   ],
   "cell_type": "code",
   "source": [
    "OpTerm{PauliI}"
   ],
   "metadata": {},
   "execution_count": 18
  },
  {
   "cell_type": "markdown",
   "source": [
    "One way to instantiate an `OpTerm` is from a string, like this"
   ],
   "metadata": {}
  },
  {
   "outputs": [
    {
     "output_type": "execute_result",
     "data": {
      "text/plain": "6-factor PauliTerm{Vector{Pauli}, ComplexF64}:\nIXIYIZ * (1.0 + 1.0im)"
     },
     "metadata": {},
     "execution_count": 19
    }
   ],
   "cell_type": "code",
   "source": [
    "OpTerm{Pauli}(\"IXIYIZ\", 1.0 + 1.0im)"
   ],
   "metadata": {},
   "execution_count": 19
  },
  {
   "cell_type": "markdown",
   "source": [
    "Or, using `PauliI`"
   ],
   "metadata": {}
  },
  {
   "outputs": [
    {
     "output_type": "execute_result",
     "data": {
      "text/plain": "6-factor OpTerm{PauliI, Vector{PauliI}, ComplexF64}:\nIXIYIZ * (1.0 + 1.0im)"
     },
     "metadata": {},
     "execution_count": 20
    }
   ],
   "cell_type": "code",
   "source": [
    "OpTerm{PauliI}(\"IXIYIZ\", 1.0 + 1.0im)"
   ],
   "metadata": {},
   "execution_count": 20
  },
  {
   "cell_type": "markdown",
   "source": [
    "Or, for Fermionic operators"
   ],
   "metadata": {}
  },
  {
   "outputs": [
    {
     "output_type": "execute_result",
     "data": {
      "text/plain": "7-factor FermiTerm{Vector{FermiOp}, Float64}:\n++I--NE * 1.0"
     },
     "metadata": {},
     "execution_count": 21
    }
   ],
   "cell_type": "code",
   "source": [
    "OpTerm{FermiOp}(\"++I--NE\", 1.0)"
   ],
   "metadata": {},
   "execution_count": 21
  },
  {
   "cell_type": "markdown",
   "source": [
    "Alternatively, we can use the aliases for convenience"
   ],
   "metadata": {}
  },
  {
   "outputs": [
    {
     "output_type": "execute_result",
     "data": {
      "text/plain": "7-factor FermiTerm{Vector{FermiOp}, Complex{Int64}}:\n++I--NE * (1 + 0im)"
     },
     "metadata": {},
     "execution_count": 22
    }
   ],
   "cell_type": "code",
   "source": [
    "PauliTerm(\"IXIYIZ\", 1.0 + 1.0im)\n",
    "FermiTerm(\"++I--NE\")"
   ],
   "metadata": {},
   "execution_count": 22
  },
  {
   "cell_type": "markdown",
   "source": [
    "To be clear, note that"
   ],
   "metadata": {}
  },
  {
   "outputs": [
    {
     "output_type": "execute_result",
     "data": {
      "text/plain": "5-factor FermiTerm{Vector{FermiOp}, Complex{Int64}}:\n+-INE * (1 + 0im)"
     },
     "metadata": {},
     "execution_count": 23
    }
   ],
   "cell_type": "code",
   "source": [
    "FermiTerm(\"+-INE\")"
   ],
   "metadata": {},
   "execution_count": 23
  },
  {
   "cell_type": "markdown",
   "source": [
    "means $a_0^\\dagger a_1 a^\\dagger_3 a_3 a_4 a^\\dagger_4$.\n",
    "\n",
    "\n",
    "`OpTerm` is a parametric type with three parameters. The aliases `PauliTerm` and `FermiTerm` each \"eat\"\n",
    "the first parameter.\n",
    "The first parameter is an operator type `<:AbstractOp`.\n",
    "The second parameter specifies the storage for the string of operators.\n",
    "By default, as above, it is a dense `Vector`. For the concrete operator types that we\n",
    "have implemented: `Pauli`, `PauliI`, and `FermiOp`, it will be an effcient, packed array of bitstype objects.\n",
    "The third type parameter is the type of the coefficient, which can be anything, but should support multiplication\n",
    "and addition. This may be, for example, `ComplexF64`, or a symbolic type."
   ],
   "metadata": {}
  },
  {
   "cell_type": "markdown",
   "source": [
    "## Sparse operators\n",
    "Terms with sparse storage of operator strings are supported by using a sparse array type with `OpTerm`.\n",
    "We use a generalized (at no runtime cost) version of the standard Julia `SparseVector` that allows one to\n",
    "specify that the neutral element of `AbstractOp` in the sparse vector should be the identity rather than zero.\n",
    "For example"
   ],
   "metadata": {}
  },
  {
   "outputs": [
    {
     "output_type": "execute_result",
     "data": {
      "text/plain": "10-element PauliTerm{SparseArraysN.SparseVector{Pauli, Int64}, ComplexF64} with 3 stored entries:\nX6 Y8 Z10 * (1.0 + 1.0im)"
     },
     "metadata": {},
     "execution_count": 24
    }
   ],
   "cell_type": "code",
   "source": [
    "using QuantumOps: sparse_op, dense_op\n",
    "sparse_op(OpTerm{Pauli}(\"IIIIIXIYIZ\", 1.0 + 1.0im))"
   ],
   "metadata": {},
   "execution_count": 24
  },
  {
   "cell_type": "markdown",
   "source": [
    "You can convert back like this"
   ],
   "metadata": {}
  },
  {
   "outputs": [
    {
     "output_type": "execute_result",
     "data": {
      "text/plain": "10-factor PauliTerm{Vector{Pauli}, ComplexF64}:\nIIIIIXIYIZ * (1.0 + 1.0im)"
     },
     "metadata": {},
     "execution_count": 25
    }
   ],
   "cell_type": "code",
   "source": [
    "dense_op(sparse_op(OpTerm{Pauli}(\"IIIIIXIYIZ\", 1.0 + 1.0im)))\n",
    "\n",
    "# Sums of multi-qubit/mode operators -- `OpSum`"
   ],
   "metadata": {},
   "execution_count": 25
  },
  {
   "cell_type": "markdown",
   "source": [
    "## Arithemetic on operators"
   ],
   "metadata": {}
  },
  {
   "cell_type": "markdown",
   "source": [
    "Multiplication is defined between simple operators, but types are not promoted to\n",
    "types capable of representing phase, so the phase is not tracked.\n",
    "For example"
   ],
   "metadata": {}
  },
  {
   "outputs": [
    {
     "output_type": "execute_result",
     "data": {
      "text/plain": "FermiOp: N"
     },
     "metadata": {},
     "execution_count": 26
    }
   ],
   "cell_type": "code",
   "source": [
    "X * Y\n",
    "\n",
    "import QuantumOps.FermiOps as FOps\n",
    "FOps.NumberOp * FOps.NumberOp"
   ],
   "metadata": {},
   "execution_count": 26
  },
  {
   "outputs": [
    {
     "output_type": "execute_result",
     "data": {
      "text/plain": "FermiOp: N"
     },
     "metadata": {},
     "execution_count": 27
    }
   ],
   "cell_type": "code",
   "source": [
    "FOps.Raise * FOps.Lower"
   ],
   "metadata": {},
   "execution_count": 27
  },
  {
   "cell_type": "markdown",
   "source": [
    "Multiplying terms does correctly preserve the phase."
   ],
   "metadata": {}
  },
  {
   "outputs": [
    {
     "output_type": "execute_result",
     "data": {
      "text/plain": "5-factor PauliTerm{Vector{Pauli}, Complex{Int64}}:\nXIYIZ * (1 + 0im)"
     },
     "metadata": {},
     "execution_count": 28
    }
   ],
   "cell_type": "code",
   "source": [
    "t1 = PauliTerm(\"XIYIZ\")"
   ],
   "metadata": {},
   "execution_count": 28
  },
  {
   "outputs": [
    {
     "output_type": "execute_result",
     "data": {
      "text/plain": "5-factor PauliTerm{Vector{Pauli}, Complex{Int64}}:\nYXIZZ * (1 + 0im)"
     },
     "metadata": {},
     "execution_count": 29
    }
   ],
   "cell_type": "code",
   "source": [
    "t2 = PauliTerm(\"YXIZZ\")"
   ],
   "metadata": {},
   "execution_count": 29
  },
  {
   "outputs": [
    {
     "output_type": "execute_result",
     "data": {
      "text/plain": "5-factor PauliTerm{Vector{Pauli}, Complex{Int64}}:\nZXYZI * (0 + 1im)"
     },
     "metadata": {},
     "execution_count": 30
    }
   ],
   "cell_type": "code",
   "source": [
    "t1 * t2"
   ],
   "metadata": {},
   "execution_count": 30
  },
  {
   "cell_type": "markdown",
   "source": [
    "Sparse terms also support `*`"
   ],
   "metadata": {}
  },
  {
   "outputs": [
    {
     "output_type": "execute_result",
     "data": {
      "text/plain": "4-element PauliTerm{SparseArraysN.SparseVector{Pauli, Int64}, Complex{Int64}} with 4 stored entries:\nZ1 X2 Y3 Z4 * (0 + 1im)"
     },
     "metadata": {},
     "execution_count": 31
    }
   ],
   "cell_type": "code",
   "source": [
    "sparse_op(t1) * sparse_op(t2)"
   ],
   "metadata": {},
   "execution_count": 31
  },
  {
   "cell_type": "markdown",
   "source": [
    "Multiplication between sparse and dense terms is currently not supported."
   ],
   "metadata": {}
  },
  {
   "cell_type": "markdown",
   "source": [
    "## `OpTerm` features"
   ],
   "metadata": {}
  },
  {
   "cell_type": "markdown",
   "source": [
    "You can create a generator of the $n$-qubit Pauli basis operators like this"
   ],
   "metadata": {}
  },
  {
   "outputs": [],
   "cell_type": "code",
   "source": [
    "collect(QuantumOps.pauli_basis(2))\n",
    "\n",
    "\n",
    "nothing;"
   ],
   "metadata": {},
   "execution_count": 32
  },
  {
   "cell_type": "markdown",
   "source": [
    "---\n",
    "\n",
    "*This notebook was generated using [Literate.jl](https://github.com/fredrikekre/Literate.jl).*"
   ],
   "metadata": {}
  }
 ],
 "nbformat_minor": 3,
 "metadata": {
  "language_info": {
   "file_extension": ".jl",
   "mimetype": "application/julia",
   "name": "julia",
   "version": "1.7.0"
  },
  "kernelspec": {
   "name": "julia-1.7",
   "display_name": "Julia 1.7.0",
   "language": "julia"
  }
 },
 "nbformat": 4
}
