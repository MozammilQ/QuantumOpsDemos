{
 "cells": [
  {
   "cell_type": "markdown",
   "source": [
    "# Jordan-Wigner transform"
   ],
   "metadata": {}
  },
  {
   "cell_type": "markdown",
   "source": [
    "Load `QuantumOps`, the implementation of Pauli and Fermionc operators"
   ],
   "metadata": {}
  },
  {
   "outputs": [],
   "cell_type": "code",
   "source": [
    "using QuantumOps"
   ],
   "metadata": {},
   "execution_count": 1
  },
  {
   "cell_type": "markdown",
   "source": [
    "Load some specific identifiers"
   ],
   "metadata": {}
  },
  {
   "outputs": [],
   "cell_type": "code",
   "source": [
    "using ElectronicStructure: MolecularData, Geometry, Atom, MolecularSpec, InteractionOperator\n",
    "using ElectronicStructurePySCF: PySCF"
   ],
   "metadata": {},
   "execution_count": 2
  },
  {
   "cell_type": "markdown",
   "source": [
    "## Specify geometry of molecules"
   ],
   "metadata": {}
  },
  {
   "cell_type": "markdown",
   "source": [
    "Define geometries for three molecules: specification of atoms and their positions.\n",
    "These are molecular hydrogen, `LiH`, and water."
   ],
   "metadata": {}
  },
  {
   "outputs": [],
   "cell_type": "code",
   "source": [
    "geoms = (\n",
    "    Geometry(Atom(:H, (0., 0., 0.)), Atom(:H, (0., 0., 0.7414))),\n",
    "\n",
    "    Geometry(Atom(:Li, (0., 0., 0.)), Atom(:H, (0., 0., 1.4))),\n",
    "\n",
    "    Geometry(Atom(:O, (0., 0., 0.)), Atom(:H, (0.757, 0.586, 0.)),\n",
    "             Atom(:H, (-0.757, 0.586, 0.)))\n",
    ");"
   ],
   "metadata": {},
   "execution_count": 3
  },
  {
   "cell_type": "markdown",
   "source": [
    "Choose one of the geometries, 1, 2, or 3."
   ],
   "metadata": {}
  },
  {
   "outputs": [
    {
     "output_type": "execute_result",
     "data": {
      "text/plain": "ElectronicStructure.Geometry{Float64}(ElectronicStructure.Atom{Float64}[ElectronicStructure.Atom{Float64}(:H, (0.0, 0.0, 0.0)), ElectronicStructure.Atom{Float64}(:H, (0.0, 0.0, 0.7414))])"
     },
     "metadata": {},
     "execution_count": 4
    }
   ],
   "cell_type": "code",
   "source": [
    "geom = geoms[1]"
   ],
   "metadata": {},
   "execution_count": 4
  },
  {
   "cell_type": "markdown",
   "source": [
    "Choose a orbital basis set."
   ],
   "metadata": {}
  },
  {
   "outputs": [],
   "cell_type": "code",
   "source": [
    "basis = \"sto-3g\";\n",
    "# basis = \"631g\""
   ],
   "metadata": {},
   "execution_count": 5
  },
  {
   "cell_type": "markdown",
   "source": [
    "We have chosen the crudest basis set and the smallest molecule. Otherwise\n",
    "the size of the data structures is too large to display in a demonstration."
   ],
   "metadata": {}
  },
  {
   "cell_type": "markdown",
   "source": [
    "## Compute interaction integrals for the chosen molecule and basis set"
   ],
   "metadata": {}
  },
  {
   "cell_type": "markdown",
   "source": [
    "Construct the specification of the electronic structure problem."
   ],
   "metadata": {}
  },
  {
   "outputs": [
    {
     "output_type": "execute_result",
     "data": {
      "text/plain": "ElectronicStructure.MolecularSpec{Float64}(ElectronicStructure.Geometry{Float64}(ElectronicStructure.Atom{Float64}[ElectronicStructure.Atom{Float64}(:H, (0.0, 0.0, 0.0)), ElectronicStructure.Atom{Float64}(:H, (0.0, 0.0, 0.7414))]), 1, 0, \"sto-3g\")"
     },
     "metadata": {},
     "execution_count": 6
    }
   ],
   "cell_type": "code",
   "source": [
    "mol_spec = MolecularSpec(geometry=geom, basis=basis)"
   ],
   "metadata": {},
   "execution_count": 6
  },
  {
   "cell_type": "markdown",
   "source": [
    "Do calculations using `PySCF` and populate a `MolecularData` object with results.\n",
    "`mol_pyscf` holds a constant, a rank-two tensor, and a rank-four tensor."
   ],
   "metadata": {}
  },
  {
   "outputs": [
    {
     "name": "stdout",
     "output_type": "stream",
     "text": [
      "┌ Warning: `vendor()` is deprecated, use `BLAS.get_config()` and inspect the output instead\n",
      "│   caller = npyinitialize() at numpy.jl:67\n",
      "└ @ PyCall ~/.julia/packages/PyCall/3fwVL/src/numpy.jl:67\n"
     ]
    }
   ],
   "cell_type": "code",
   "source": [
    "mol_pyscf = MolecularData(PySCF, mol_spec);"
   ],
   "metadata": {},
   "execution_count": 7
  },
  {
   "cell_type": "markdown",
   "source": [
    "## Include spin orbitals and change the representation"
   ],
   "metadata": {}
  },
  {
   "cell_type": "markdown",
   "source": [
    "Create an interaction operator from one- and two-body integrals and a constant.\n",
    "This does just a bit of manipulation of `mol_data`; converting space orbitals\n",
    "into space-and-spin orbitals. There are options for choosing chemists' or physicists'\n",
    "index ordering and block- or inteleaved-spin orbital ordering.\n",
    "We take the default here,\n",
    "which gives the same as the operator by the same name in OpenFermion.\n",
    "The data is still in the form of rank two and four tensors, but the size of each\n",
    "dimension is doubled."
   ],
   "metadata": {}
  },
  {
   "outputs": [],
   "cell_type": "code",
   "source": [
    "iop = InteractionOperator(mol_pyscf);"
   ],
   "metadata": {},
   "execution_count": 8
  },
  {
   "cell_type": "markdown",
   "source": [
    "Now we convert `iop` to a more-sparse format; a `FermiSum` (alias for `OpSum{FermiOp}`).\n",
    "This is sparse in the sense that only non-zero entries in the tensors in `iop` are represented.\n",
    "However, it is not as sparse as it could be, in that identity operators on modes are represented\n",
    "explicitly."
   ],
   "metadata": {}
  },
  {
   "outputs": [
    {
     "output_type": "execute_result",
     "data": {
      "text/plain": "25x4 QuantumOps.FermiSum{Vector{Vector{QuantumOps.FermiOps.FermiOp}}, Vector{Float64}}:\nIIII * 0.7137539936876182\nIIIN * -0.47594871522096427\nIINI * -1.2524635735648983\nIINN * 0.48217928821207207\nII+- * 1.942890293094024e-16\nINII * -0.47594871522096427\nININ * 0.6973937674230277\nINNI * 0.663468096423568\nIN+- * 1.249000902703301e-16\nIN-+ * -1.249000902703301e-16\nNIII * -1.2524635735648983\nNIIN * 0.663468096423568\nNINI * 0.6744887663568377\nNI+- * -6.938893903907228e-18\nNI-+ * 6.938893903907228e-18\nNNII * 0.48217928821207207\n+-II * 1.942890293094024e-16\n+-IN * 1.249000902703301e-16\n+-NI * -6.938893903907228e-18\n+-+- * 0.18128880821149598\n+--+ * -0.18128880821149598\n-+IN * -1.249000902703301e-16\n-+NI * 6.938893903907228e-18\n-++- * -0.18128880821149598\n-+-+ * 0.18128880821149598"
     },
     "metadata": {},
     "execution_count": 9
    }
   ],
   "cell_type": "code",
   "source": [
    "fermi_op = FermiSum(iop)"
   ],
   "metadata": {},
   "execution_count": 9
  },
  {
   "cell_type": "markdown",
   "source": [
    "## Jordan-Wigner transform"
   ],
   "metadata": {}
  },
  {
   "outputs": [],
   "cell_type": "code",
   "source": [
    "using QuantumOps: jordan_wigner"
   ],
   "metadata": {},
   "execution_count": 10
  },
  {
   "cell_type": "markdown",
   "source": [
    "Compute the Jordan-Wigner transform"
   ],
   "metadata": {}
  },
  {
   "outputs": [
    {
     "output_type": "execute_result",
     "data": {
      "text/plain": "15x4 QuantumOps.PauliSum{Vector{Vector{QuantumOps.Paulis.Pauli}}, Vector{ComplexF64}}:\nIIII * (0.9373260195928107 + 0.0im)\nIIIZ * (0.16016101508151956 + 0.0im)\nIIZI * (-0.37553273780506796 + 0.0im)\nIIZZ * (0.04283503098536895 + 0.0im)\nIZII * (0.09925152906989478 + 0.0im)\nIZIZ * (0.014034240457377972 + 0.0im)\nIZZI * (0.01335152568887115 + 0.0im)\nXXXX * (0.045322202052873996 + 0.0im)\nXXYY * (0.045322202052873996 + 0.0im)\nYYXX * (0.045322202052873996 + 0.0im)\nYYYY * (0.045322202052873996 + 0.0im)\nZIII * (-0.23512989242032395 + 0.0im)\nZIIZ * (0.02094407108621566 + 0.0im)\nZIZI * (0.021291966781192325 + 0.0im)\nZZII * (0.015221225169759003 + 0.0im)"
     },
     "metadata": {},
     "execution_count": 11
    }
   ],
   "cell_type": "code",
   "source": [
    "jordan_wigner(fermi_op)"
   ],
   "metadata": {},
   "execution_count": 11
  },
  {
   "cell_type": "markdown",
   "source": [
    "# Other features"
   ],
   "metadata": {}
  },
  {
   "cell_type": "markdown",
   "source": [
    "An optional second argument of type `<:AbstractPauli` determines the output type.\n",
    "The default `AbstractPauli` for all of `QuantumOps` is"
   ],
   "metadata": {}
  },
  {
   "outputs": [
    {
     "output_type": "execute_result",
     "data": {
      "text/plain": "QuantumOps.Paulis.Pauli"
     },
     "metadata": {},
     "execution_count": 12
    }
   ],
   "cell_type": "code",
   "source": [
    "QuantumOps.PauliDefault"
   ],
   "metadata": {},
   "execution_count": 12
  },
  {
   "cell_type": "markdown",
   "source": [
    "Here, we choose `PauliI` instead"
   ],
   "metadata": {}
  },
  {
   "outputs": [
    {
     "output_type": "execute_result",
     "data": {
      "text/plain": "15x4 QuantumOps.OpSum{QuantumOps.PaulisI.PauliI, Vector{Vector{QuantumOps.PaulisI.PauliI}}, Vector{ComplexF64}}:\nIIII * (0.7639514007071802 + 0.0im)\nIIIZ * (0.07473754924256235 + 0.0im)\nIIZI * (-0.1156953846776437 + 0.0im)\nIIZZ * (0.005408790196688342 + 0.0im)\nIZII * (0.04502875706477448 + 0.0im)\nIZIZ * (0.0017721070922012566 + 0.0im)\nIZZI * (0.001685900525704425 + 0.0im)\nXXXX * (0.045322202052873996 + 0.0im)\nXXYY * (0.045322202052873996 + 0.0im)\nYYXX * (0.045322202052873996 + 0.0im)\nYYYY * (0.045322202052873996 + 0.0im)\nZIII * (-0.07039026960008568 + 0.0im)\nZIIZ * (0.00264461315339215 + 0.0im)\nZIZI * (0.002688542030789311 + 0.0im)\nZZII * (0.0019219879520549212 + 0.0im)"
     },
     "metadata": {},
     "execution_count": 13
    }
   ],
   "cell_type": "code",
   "source": [
    "jordan_wigner(fermi_op, PauliI)"
   ],
   "metadata": {},
   "execution_count": 13
  },
  {
   "cell_type": "markdown",
   "source": [
    "We have mentioned before that the performance of `PauliI` vs. `Pauli` may vary greatly\n",
    "in general. But, in most cases, overall performance does not hinge on choosing beteen the two."
   ],
   "metadata": {}
  },
  {
   "cell_type": "markdown",
   "source": [
    "We won't use it now, but let's look at a sparser representation, backed by a `SparseVector`.\n",
    "Here, only non-identity operators are represented explicitly."
   ],
   "metadata": {}
  },
  {
   "outputs": [
    {
     "output_type": "execute_result",
     "data": {
      "text/plain": "25x4 QuantumOps.FermiSum{Vector{SparseArraysN.SparseVector{QuantumOps.FermiOps.FermiOp, Int64}}, Vector{Float64}}:\n0.7137539936876182\nN4 * -0.47594871522096427\nN3 * -1.2524635735648983\nN3 N4 * 0.48217928821207207\n+3 -4 * 1.942890293094024e-16\nN2 * -0.47594871522096427\nN2 N4 * 0.6973937674230277\nN2 N3 * 0.663468096423568\nN2 +3 -4 * 1.249000902703301e-16\nN2 -3 +4 * -1.249000902703301e-16\nN1 * -1.2524635735648983\nN1 N4 * 0.663468096423568\nN1 N3 * 0.6744887663568377\nN1 +3 -4 * -6.938893903907228e-18\nN1 -3 +4 * 6.938893903907228e-18\nN1 N2 * 0.48217928821207207\n+1 -2 * 1.942890293094024e-16\n+1 -2 N4 * 1.249000902703301e-16\n+1 -2 N3 * -6.938893903907228e-18\n+1 -2 +3 -4 * 0.18128880821149598\n+1 -2 -3 +4 * -0.18128880821149598\n-1 +2 N4 * -1.249000902703301e-16\n-1 +2 N3 * 6.938893903907228e-18\n-1 +2 +3 -4 * -0.18128880821149598\n-1 +2 -3 +4 * 0.18128880821149598"
     },
     "metadata": {},
     "execution_count": 14
    }
   ],
   "cell_type": "code",
   "source": [
    "using QuantumOps: sparse_op\n",
    "sparse_op(fermi_op)"
   ],
   "metadata": {},
   "execution_count": 14
  },
  {
   "cell_type": "markdown",
   "source": [
    "You can also perform the transform on a single term (`OpTerm`). This always returns\n",
    "a sum (`OpSum{<:AbstractPauli}`).\n",
    "Here is a single term."
   ],
   "metadata": {}
  },
  {
   "outputs": [
    {
     "output_type": "execute_result",
     "data": {
      "text/plain": "4-factor QuantumOps.FermiTerm{Vector{QuantumOps.FermiOps.FermiOp}, Float64}:\nIIIN * -0.47594871522096427"
     },
     "metadata": {},
     "execution_count": 15
    }
   ],
   "cell_type": "code",
   "source": [
    "fermi_op[2]"
   ],
   "metadata": {},
   "execution_count": 15
  },
  {
   "cell_type": "markdown",
   "source": [
    "The transform is"
   ],
   "metadata": {}
  },
  {
   "outputs": [
    {
     "output_type": "execute_result",
     "data": {
      "text/plain": "2x4 QuantumOps.PauliSum{Vector{Vector{QuantumOps.Paulis.Pauli}}, Vector{ComplexF64}}:\nIIII * (-0.03004908232578217 - 0.0im)\nIIIZ * (0.03004908232578217 - 0.0im)"
     },
     "metadata": {},
     "execution_count": 16
    }
   ],
   "cell_type": "code",
   "source": [
    "jordan_wigner(fermi_op[2])"
   ],
   "metadata": {},
   "execution_count": 16
  },
  {
   "cell_type": "markdown",
   "source": [
    "---\n",
    "\n",
    "*This notebook was generated using [Literate.jl](https://github.com/fredrikekre/Literate.jl).*"
   ],
   "metadata": {}
  }
 ],
 "nbformat_minor": 3,
 "metadata": {
  "language_info": {
   "file_extension": ".jl",
   "mimetype": "application/julia",
   "name": "julia",
   "version": "1.7.0"
  },
  "kernelspec": {
   "name": "julia-1.7",
   "display_name": "Julia 1.7.0",
   "language": "julia"
  }
 },
 "nbformat": 4
}
