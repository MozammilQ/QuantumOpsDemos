{
 "cells": [
  {
   "cell_type": "markdown",
   "source": [
    "# `QuantumOps` performance intro"
   ],
   "metadata": {}
  },
  {
   "cell_type": "markdown",
   "source": [
    "This notebook introduces some of `QuantumOps` with an emphasis on performance aspects."
   ],
   "metadata": {}
  },
  {
   "cell_type": "markdown",
   "source": [
    "Tell `PyCall` to use our virtual Python environment"
   ],
   "metadata": {}
  },
  {
   "outputs": [],
   "cell_type": "code",
   "source": [
    "ENV[\"PYCALL_JL_RUNTIME_PYTHON\"] = Sys.which(\"python\")\n",
    "\n",
    "# import all default symbols for interactive demo\n",
    "using QuantumOps\n",
    "using QuantumOps: AbstractOp\n",
    "using BenchmarkTools\n",
    "import LinearAlgebra\n",
    "import SparseArrays\n",
    "\n",
    "# We also import I, X, Y, Z for convenience\n",
    "using QuantumOps.Paulis: I, X, Y, Z"
   ],
   "metadata": {},
   "execution_count": 1
  },
  {
   "cell_type": "markdown",
   "source": [
    "### Pauli\n",
    "\n",
    "These, `I, X, Y, Z`, are bound to instances of the `Pauli` type, representing single-qubit operators."
   ],
   "metadata": {}
  },
  {
   "outputs": [
    {
     "output_type": "execute_result",
     "data": {
      "text/plain": "true"
     },
     "metadata": {},
     "execution_count": 2
    }
   ],
   "cell_type": "code",
   "source": [
    "(I, X, Y, Z) == Pauli.((0, 1, 2, 3)) ## The '.' broadcasts over the following elements."
   ],
   "metadata": {},
   "execution_count": 2
  },
  {
   "cell_type": "markdown",
   "source": [
    "Julia has a large number of standard interfaces and functions for numeric and algebraic types. I follow these when possible. For example, `Matrix` is used to construct a dense, heap-allocated matrix from an object. So I defined a method for it."
   ],
   "metadata": {}
  },
  {
   "outputs": [
    {
     "name": "stdout",
     "output_type": "stream",
     "text": [
      "Matrix[[1.0 0.0; 0.0 1.0], [0.0 1.0; 1.0 0.0], ComplexF64[0.0 + 0.0im 0.0 - 1.0im; 0.0 + 1.0im 0.0 + 0.0im], [1.0 0.0; 0.0 -1.0]]"
     ]
    }
   ],
   "cell_type": "code",
   "source": [
    "print(Matrix.(Pauli.(0:3)))"
   ],
   "metadata": {},
   "execution_count": 3
  },
  {
   "cell_type": "markdown",
   "source": [
    "`Pauli` is in this type hierarchy."
   ],
   "metadata": {}
  },
  {
   "outputs": [
    {
     "output_type": "execute_result",
     "data": {
      "text/plain": "true"
     },
     "metadata": {},
     "execution_count": 4
    }
   ],
   "cell_type": "code",
   "source": [
    "Pauli <: AbstractPauli <: AbstractOp"
   ],
   "metadata": {},
   "execution_count": 4
  },
  {
   "cell_type": "markdown",
   "source": [
    "Only a very small amount of code depends on the internals of `Pauli`.\n",
    "Almost everything is coded against `AbstractOp` and `AbstractPauli`. The developer almost never encounters the implementation of `Pauli`, and the user never does.\n",
    "But, if you want, you can see it this way."
   ],
   "metadata": {}
  },
  {
   "outputs": [
    {
     "name": "stdout",
     "output_type": "stream",
     "text": [
      "QuantumOps.Paulis.Pauli\n",
      "  hi: Bool false\n",
      "  lo: Bool true\n"
     ]
    }
   ],
   "cell_type": "code",
   "source": [
    "dump(X)"
   ],
   "metadata": {},
   "execution_count": 5
  },
  {
   "cell_type": "markdown",
   "source": [
    "The notation `X[i, j]` calls `getindex(X, i, j)` which, for `AbstractPauli`, looks up the elements in stack allocated arrays.\n",
    "This is faster than indexing into a heap allocated (that is, every-day, dynamic) array:"
   ],
   "metadata": {}
  },
  {
   "outputs": [
    {
     "name": "stdout",
     "output_type": "stream",
     "text": [
      "  1.816 ns (0 allocations: 0 bytes)\n"
     ]
    }
   ],
   "cell_type": "code",
   "source": [
    "m = rand(2, 2) # Ordinary `Matrix`\n",
    "@btime $m[1, 1];  # @btime is like %timeit. The \"$\" tests how it would perform in a compiled function"
   ],
   "metadata": {},
   "execution_count": 6
  },
  {
   "outputs": [
    {
     "name": "stdout",
     "output_type": "stream",
     "text": [
      "  1.396 ns (0 allocations: 0 bytes)\n"
     ]
    }
   ],
   "cell_type": "code",
   "source": [
    "@btime X[1, 1];  ## This includes time to look up what matrix corresponds to `X`"
   ],
   "metadata": {},
   "execution_count": 7
  },
  {
   "cell_type": "markdown",
   "source": [
    "Some linear algebra has been implemented."
   ],
   "metadata": {}
  },
  {
   "cell_type": "markdown",
   "source": [
    "In Julia, multiplying two small matrices is faster than multiplying two numpy matrices is Python. The Python call includes an overhead.\n",
    "Multiplying `QuantumOps.Paulis.Pauli` by a `Matrix` is even a bit faster because looking up elements of a `Pauli` is faster."
   ],
   "metadata": {}
  },
  {
   "outputs": [
    {
     "name": "stdout",
     "output_type": "stream",
     "text": [
      "  31.619 ns (1 allocation: 128 bytes)\n"
     ]
    }
   ],
   "cell_type": "code",
   "source": [
    "mY = Matrix(Y) # convert Y to a `Matrix`\n",
    "\n",
    "@btime Y * $m;"
   ],
   "metadata": {},
   "execution_count": 8
  },
  {
   "outputs": [
    {
     "name": "stdout",
     "output_type": "stream",
     "text": [
      "  171.371 ns (1 allocation: 128 bytes)\n"
     ]
    }
   ],
   "cell_type": "code",
   "source": [
    "@btime $mY * $m;"
   ],
   "metadata": {},
   "execution_count": 9
  },
  {
   "cell_type": "markdown",
   "source": [
    "Another example:"
   ],
   "metadata": {}
  },
  {
   "outputs": [
    {
     "name": "stdout",
     "output_type": "stream",
     "text": [
      "  20.455 ns (1 allocation: 80 bytes)\n"
     ]
    },
    {
     "output_type": "execute_result",
     "data": {
      "text/plain": "2-element Vector{Float64}:\n -1.0\n  1.0"
     },
     "metadata": {},
     "execution_count": 10
    }
   ],
   "cell_type": "code",
   "source": [
    "@btime LinearAlgebra.eigvals(Z)"
   ],
   "metadata": {},
   "execution_count": 10
  },
  {
   "cell_type": "markdown",
   "source": [
    "`20`ns is the time required to copy the array of eigenvalues."
   ],
   "metadata": {}
  },
  {
   "cell_type": "markdown",
   "source": [
    "### `PauliTerm`\n",
    "\n",
    "`PauliTerm` represents a tensor product of Pauli operators (or a single one) and keeps track of a coefficient, including a phase."
   ],
   "metadata": {}
  },
  {
   "cell_type": "markdown",
   "source": [
    "### Compare `PauliTerm` with qiskit"
   ],
   "metadata": {}
  },
  {
   "outputs": [],
   "cell_type": "code",
   "source": [
    "using PyCall\n",
    "qi = pyimport(\"qiskit.quantum_info\");"
   ],
   "metadata": {},
   "execution_count": 11
  },
  {
   "cell_type": "markdown",
   "source": [
    "Here, we compare multiplication of two Pauli strings with both libraries. We see how the time scales with string length."
   ],
   "metadata": {}
  },
  {
   "outputs": [
    {
     "name": "stdout",
     "output_type": "stream",
     "text": [
      "  50.930 ns (1 allocation: 80 bytes)\n"
     ]
    },
    {
     "output_type": "execute_result",
     "data": {
      "text/plain": "10-factor QuantumOps.PauliTerm{Vector{QuantumOps.Paulis.Pauli}, Complex{Int64}}:\nIIZYIZYXZX * (1 + 0im)"
     },
     "metadata": {},
     "execution_count": 12
    }
   ],
   "cell_type": "code",
   "source": [
    "function get_julia_python_terms(n_qubits)\n",
    "    xj = PauliTerm(rand(Pauli, n_qubits))\n",
    "    yj = PauliTerm(rand(Pauli, n_qubits))\n",
    "    xp = qi.random_pauli(n_qubits)\n",
    "    yp = qi.random_pauli(n_qubits)\n",
    "    return (xj, yj, xp, yp)\n",
    "end\n",
    "\n",
    "n_qubits = 10\n",
    "(xj, yj, xp, yp) = get_julia_python_terms(n_qubits)\n",
    "\n",
    "# `QuantumOps`\n",
    "@btime $xj * $yj"
   ],
   "metadata": {},
   "execution_count": 12
  },
  {
   "outputs": [
    {
     "name": "stdout",
     "output_type": "stream",
     "text": [
      "  17.601 μs (4 allocations: 256 bytes)\n"
     ]
    },
    {
     "output_type": "execute_result",
     "data": {
      "text/plain": "PyObject Pauli('-iIZIZYZXIXI')"
     },
     "metadata": {},
     "execution_count": 13
    }
   ],
   "cell_type": "code",
   "source": [
    "# qiskit\n",
    "@btime $xp.compose($yp)   ## @btime gives same times as %timeit in python cli"
   ],
   "metadata": {},
   "execution_count": 13
  },
  {
   "cell_type": "markdown",
   "source": [
    "#### For mulitplying 10-qubit Pauli strings, `QuantumOps` is about 300 times faster than qiskit."
   ],
   "metadata": {}
  },
  {
   "outputs": [
    {
     "output_type": "execute_result",
     "data": {
      "text/plain": "347.37228190718264"
     },
     "metadata": {},
     "execution_count": 14
    }
   ],
   "cell_type": "code",
   "source": [
    "julia_time = @belapsed $xj * $xj\n",
    "qiskit_time = @belapsed $xp.compose($yp)\n",
    "\n",
    "qiskit_time / julia_time"
   ],
   "metadata": {},
   "execution_count": 14
  },
  {
   "cell_type": "markdown",
   "source": [
    "Asymptotically, qiskit is about three times faster than `QuantumOps`. But, it takes a while to get there. For 1000-qubit strings `QuantumOps` is still eight times faster. I have some ideas regarding why python is faster than Julia here, but I am not at all sure. Also, there is a big, ~12 micro-s constant term in the python times. It might be worth trying to reduce this."
   ],
   "metadata": {}
  },
  {
   "outputs": [
    {
     "output_type": "execute_result",
     "data": {
      "text/plain": "9.98148347507805"
     },
     "metadata": {},
     "execution_count": 15
    }
   ],
   "cell_type": "code",
   "source": [
    "n_qubits = 1000\n",
    "(xj, yj, xp, yp) = get_julia_python_terms(n_qubits)\n",
    "\n",
    "julia_time = @belapsed $xj * $xj\n",
    "qiskit_time = @belapsed $xp.compose($yp)\n",
    "\n",
    "qiskit_time / julia_time"
   ],
   "metadata": {},
   "execution_count": 15
  },
  {
   "cell_type": "markdown",
   "source": [
    "Here are $10^4$ qubits. Julia is still faster, but they are comparable."
   ],
   "metadata": {}
  },
  {
   "outputs": [
    {
     "output_type": "execute_result",
     "data": {
      "text/plain": "1.8758188283735726"
     },
     "metadata": {},
     "execution_count": 16
    }
   ],
   "cell_type": "code",
   "source": [
    "n_qubits = 10^4\n",
    "(xj, yj, xp, yp) = get_julia_python_terms(n_qubits)\n",
    "\n",
    "julia_time = @belapsed $xj * $xj\n",
    "qiskit_time = @belapsed $xp.compose($yp)\n",
    "\n",
    "qiskit_time / julia_time"
   ],
   "metadata": {},
   "execution_count": 16
  },
  {
   "cell_type": "markdown",
   "source": [
    "### `PauliSum`"
   ],
   "metadata": {}
  },
  {
   "cell_type": "markdown",
   "source": [
    "A `PauliSum` represents a sum of `PauliTerm`s, sorted in a canonical order."
   ],
   "metadata": {}
  },
  {
   "outputs": [
    {
     "output_type": "execute_result",
     "data": {
      "text/plain": "10x10 QuantumOps.PauliSum{Vector{Vector{QuantumOps.Paulis.Pauli}}, Vector{Float64}}:\nIIXYIZIXYI * 2.2215889323336255\nIYXXYYYYXZ * -0.38178817654468283\nXXYYIZXYXZ * -2.039460991887577\nYIXIYIZZZZ * -0.5751862981192438\nYIYIXZYXYI * -0.18654955526856118\nYIZYXZXYZI * 0.5093119169845572\nYZZIZXYIXY * 1.0572243529904528\nZIXIZIZIZX * -0.6712398494276668\nZXZIIIIYIY * -0.6472150447189541\nZYIZYZXZXX * -0.2459676130460791"
     },
     "metadata": {},
     "execution_count": 17
    }
   ],
   "cell_type": "code",
   "source": [
    "n_qubits = 10\n",
    "n_terms = 10\n",
    "ps = PauliSum(rand(Pauli, (n_terms, n_qubits)), randn(n_terms))"
   ],
   "metadata": {},
   "execution_count": 17
  },
  {
   "outputs": [
    {
     "output_type": "execute_result",
     "data": {
      "text/plain": "(10-factor QuantumOps.PauliTerm{Vector{QuantumOps.Paulis.Pauli}, Float64}:\nYIYIXZYXYI * -0.18654955526856118, QuantumOps.PauliTerm{Vector{QuantumOps.Paulis.Pauli}, Float64})"
     },
     "metadata": {},
     "execution_count": 18
    }
   ],
   "cell_type": "code",
   "source": [
    "x = ps[5]\n",
    "(x, typeof(x))"
   ],
   "metadata": {},
   "execution_count": 18
  },
  {
   "cell_type": "markdown",
   "source": [
    "`add!` adds a `PauliTerm` in place. It does a sorted search to find the correct location."
   ],
   "metadata": {}
  },
  {
   "outputs": [
    {
     "output_type": "execute_result",
     "data": {
      "text/plain": "9x10 QuantumOps.PauliSum{Vector{Vector{QuantumOps.Paulis.Pauli}}, Vector{Float64}}:\nIIXYIZIXYI * 2.2215889323336255\nIYXXYYYYXZ * -0.38178817654468283\nXXYYIZXYXZ * -2.039460991887577\nYIXIYIZZZZ * -0.5751862981192438\nYIZYXZXYZI * 0.5093119169845572\nYZZIZXYIXY * 1.0572243529904528\nZIXIZIZIZX * -0.6712398494276668\nZXZIIIIYIY * -0.6472150447189541\nZYIZYZXZXX * -0.2459676130460791"
     },
     "metadata": {},
     "execution_count": 19
    }
   ],
   "cell_type": "code",
   "source": [
    "add!(ps, -x)  ## add the additive inverse of a term"
   ],
   "metadata": {},
   "execution_count": 19
  },
  {
   "cell_type": "markdown",
   "source": [
    "The length of the sum is now 9 rather than 10."
   ],
   "metadata": {}
  },
  {
   "outputs": [
    {
     "output_type": "execute_result",
     "data": {
      "text/plain": "9"
     },
     "metadata": {},
     "execution_count": 20
    }
   ],
   "cell_type": "code",
   "source": [
    "length(ps)"
   ],
   "metadata": {},
   "execution_count": 20
  },
  {
   "outputs": [
    {
     "output_type": "execute_result",
     "data": {
      "text/plain": "(10, 10)"
     },
     "metadata": {},
     "execution_count": 21
    }
   ],
   "cell_type": "code",
   "source": [
    "n_qubits = 10\n",
    "n_terms = 10\n",
    "ps = PauliSum(rand(Pauli, (n_terms, n_qubits)), randn(n_terms));\n",
    "size(ps)"
   ],
   "metadata": {},
   "execution_count": 21
  },
  {
   "outputs": [
    {
     "output_type": "execute_result",
     "data": {
      "text/plain": "10-factor QuantumOps.PauliTerm{Vector{QuantumOps.Paulis.Pauli}, Float64}:\nIYZYZYYYIX * -1.7648300362371168"
     },
     "metadata": {},
     "execution_count": 22
    }
   ],
   "cell_type": "code",
   "source": [
    "x = copy(ps[1])"
   ],
   "metadata": {},
   "execution_count": 22
  },
  {
   "outputs": [
    {
     "name": "stdout",
     "output_type": "stream",
     "text": [
      "  62.289 ns (0 allocations: 0 bytes)\n"
     ]
    }
   ],
   "cell_type": "code",
   "source": [
    "@btime add!($ps, $x);"
   ],
   "metadata": {},
   "execution_count": 23
  },
  {
   "cell_type": "markdown",
   "source": [
    "That seems a bit slow."
   ],
   "metadata": {}
  },
  {
   "cell_type": "markdown",
   "source": [
    "### Multiplying Pauli Sums. Compare with Qiskit"
   ],
   "metadata": {}
  },
  {
   "cell_type": "markdown",
   "source": [
    "`qiskit.quantum_info` and `QuantumOps` are comparable in performance when multiplying Pauli sums;\n",
    " at least over some range of parameters."
   ],
   "metadata": {}
  },
  {
   "outputs": [
    {
     "output_type": "execute_result",
     "data": {
      "text/plain": "get_julia_python_sums (generic function with 1 method)"
     },
     "metadata": {},
     "execution_count": 24
    }
   ],
   "cell_type": "code",
   "source": [
    "function get_julia_python_sums(n_qubits, n_terms)\n",
    "    xj = rand_op_sum(Pauli, n_qubits, n_terms)\n",
    "    yj = rand_op_sum(Pauli, n_qubits, n_terms)\n",
    "    xp = qi.SparsePauliOp(qi.random_pauli_list(n_qubits, n_terms))\n",
    "    yp = qi.SparsePauliOp(qi.random_pauli_list(n_qubits, n_terms))\n",
    "    return (xj, yj, xp, yp)\n",
    "end"
   ],
   "metadata": {},
   "execution_count": 24
  },
  {
   "outputs": [
    {
     "output_type": "execute_result",
     "data": {
      "text/plain": "1.5243537575018375"
     },
     "metadata": {},
     "execution_count": 25
    }
   ],
   "cell_type": "code",
   "source": [
    "n_qubits = 10; n_terms = 100\n",
    "\n",
    "(xj, yj, xp, yp) = get_julia_python_sums(n_qubits, n_terms)\n",
    "julia_time = @belapsed $xj * $xj\n",
    "qiskit_time = @belapsed $xp.compose($yp).simplify()\n",
    "\n",
    "qiskit_time / julia_time"
   ],
   "metadata": {},
   "execution_count": 25
  },
  {
   "outputs": [
    {
     "output_type": "execute_result",
     "data": {
      "text/plain": "0.7094303082828785"
     },
     "metadata": {},
     "execution_count": 26
    }
   ],
   "cell_type": "code",
   "source": [
    "n_qubits = 10; n_terms = 2000\n",
    "\n",
    "(xj, yj, xp, yp) = get_julia_python_sums(n_qubits, n_terms)\n",
    "julia_time = @elapsed xj * xj\n",
    "qiskit_time = @elapsed xp.compose(yp).simplify()\n",
    "\n",
    "qiskit_time / julia_time"
   ],
   "metadata": {},
   "execution_count": 26
  },
  {
   "outputs": [
    {
     "output_type": "execute_result",
     "data": {
      "text/plain": "1.0960905393336948"
     },
     "metadata": {},
     "execution_count": 27
    }
   ],
   "cell_type": "code",
   "source": [
    "n_qubits = 100; n_terms = 2000\n",
    "\n",
    "(xj, yj, xp, yp) = get_julia_python_sums(n_qubits, n_terms)\n",
    "julia_time = @elapsed xj * xj\n",
    "qiskit_time = @elapsed xp.compose(yp).simplify()\n",
    "\n",
    "qiskit_time / julia_time"
   ],
   "metadata": {},
   "execution_count": 27
  },
  {
   "cell_type": "markdown",
   "source": [
    "#### Pauli decomposition\n",
    "\n",
    "Construct the Pauli decomposition of a matrix."
   ],
   "metadata": {}
  },
  {
   "outputs": [
    {
     "output_type": "execute_result",
     "data": {
      "text/plain": "16x2 QuantumOps.PauliSum{Vector{Vector{QuantumOps.Paulis.Pauli}}, Vector{ComplexF64}}:\nII * (0.5325669617541431 + 0.0im)\nIX * (0.5253614216617813 + 0.0im)\nIY * (0.0 + 0.10933946239343692im)\nIZ * (0.015554511633424084 + 0.0im)\nXI * (0.45449561970641994 + 0.0im)\nXX * (0.6144901597409341 + 0.0im)\nXY * (0.0 + 0.016330712415224602im)\nXZ * (-0.2643962976623996 + 0.0im)\nYI * (0.0 - 0.010222264989617286im)\nYX * (0.0 + 0.19305786849392814im)\nYY * (0.06352046792495009 - 0.0im)\nYZ * (0.0 - 0.1528041759924518im)\nZI * (-0.21995259594969138 + 0.0im)\nZX * (0.12543905855302873 + 0.0im)\nZY * (0.0 - 0.24778086294104326im)\nZZ * (0.207191456659944 + 0.0im)"
     },
     "metadata": {},
     "execution_count": 28
    }
   ],
   "cell_type": "code",
   "source": [
    "m = rand(4, 4)\n",
    "s = PauliSum(m)"
   ],
   "metadata": {},
   "execution_count": 28
  },
  {
   "cell_type": "markdown",
   "source": [
    "Check that the decomposition is correct."
   ],
   "metadata": {}
  },
  {
   "outputs": [
    {
     "output_type": "execute_result",
     "data": {
      "text/plain": "true"
     },
     "metadata": {},
     "execution_count": 29
    }
   ],
   "cell_type": "code",
   "source": [
    "m ≈ Matrix(s)"
   ],
   "metadata": {},
   "execution_count": 29
  },
  {
   "cell_type": "markdown",
   "source": [
    "Doing this decomposition is exponentially expensive. Here we compare the performance of Qiskit QI vs. QuantumOps."
   ],
   "metadata": {}
  },
  {
   "outputs": [
    {
     "output_type": "execute_result",
     "data": {
      "text/plain": "0.082640008"
     },
     "metadata": {},
     "execution_count": 30
    }
   ],
   "cell_type": "code",
   "source": [
    "n = 7\n",
    "m = rand(2^n, 2^n);\n",
    "julia_time = @belapsed PauliSum($m)"
   ],
   "metadata": {},
   "execution_count": 30
  },
  {
   "outputs": [
    {
     "output_type": "execute_result",
     "data": {
      "text/plain": "8.774843299"
     },
     "metadata": {},
     "execution_count": 31
    }
   ],
   "cell_type": "code",
   "source": [
    "qi_op = qi.Operator(m)\n",
    "qi_time = @elapsed qi.SparsePauliOp.from_operator(qi_op)"
   ],
   "metadata": {},
   "execution_count": 31
  },
  {
   "cell_type": "markdown",
   "source": [
    "Ratio of times to do Pauli decomposition for random 7-qubit matrix"
   ],
   "metadata": {}
  },
  {
   "outputs": [
    {
     "output_type": "execute_result",
     "data": {
      "text/plain": "106.18153980575607"
     },
     "metadata": {},
     "execution_count": 32
    }
   ],
   "cell_type": "code",
   "source": [
    "qi_time / julia_time"
   ],
   "metadata": {},
   "execution_count": 32
  },
  {
   "cell_type": "markdown",
   "source": [
    "### Parametric types and composability"
   ],
   "metadata": {}
  },
  {
   "cell_type": "markdown",
   "source": [
    "#### Z4Group\n",
    "\n",
    "I implemented a type `Z4Group` that represents `(i, -1, -i, 1)`. This can be used to represent the Pauli group. The type `Z4Group` becomes part of the type of the term, which aids the compiler in devirtualizing and inlining."
   ],
   "metadata": {}
  },
  {
   "outputs": [
    {
     "output_type": "execute_result",
     "data": {
      "text/plain": "(+i XXY, QuantumOps.PauliTerm{Vector{QuantumOps.Paulis.Pauli}, QuantumOps.Z4Groups.Z4Group})"
     },
     "metadata": {},
     "execution_count": 33
    }
   ],
   "cell_type": "code",
   "source": [
    "t = PauliTerm(:XXY, Z4Group(im))\n",
    "(t, typeof(t))"
   ],
   "metadata": {},
   "execution_count": 33
  },
  {
   "outputs": [
    {
     "output_type": "execute_result",
     "data": {
      "text/plain": "+1 ZXZ"
     },
     "metadata": {},
     "execution_count": 34
    }
   ],
   "cell_type": "code",
   "source": [
    "v = PauliTerm(:ZXZ, Z4Group(1))"
   ],
   "metadata": {},
   "execution_count": 34
  },
  {
   "outputs": [
    {
     "output_type": "execute_result",
     "data": {
      "text/plain": "+i YIX"
     },
     "metadata": {},
     "execution_count": 35
    }
   ],
   "cell_type": "code",
   "source": [
    "t * v"
   ],
   "metadata": {},
   "execution_count": 35
  },
  {
   "cell_type": "markdown",
   "source": [
    "#### Z4Group0\n",
    "\n",
    "More interesting is `Z4Group0` which is `Z4Group` augmented by another `Bool` representing zero. This can represent `(0, im, -im, 1, -1)`. It supports multiplication of elements, but is only closed under addition where at least one operand is `0`. It will error if you don't respect this. This quasi-algebra is enough to represent and compute kronecker products of Pauli matrices. The structure is this"
   ],
   "metadata": {}
  },
  {
   "outputs": [
    {
     "name": "stdout",
     "output_type": "stream",
     "text": [
      "QuantumOps.Z4Group0s.Z4Group0\n",
      "  z4: QuantumOps.Z4Groups.Z4Group\n",
      "    imag: Bool false\n",
      "    minus: Bool false\n",
      "  zero: Bool true\n"
     ]
    }
   ],
   "cell_type": "code",
   "source": [
    "dump(Z4Group0(1))"
   ],
   "metadata": {},
   "execution_count": 36
  },
  {
   "cell_type": "markdown",
   "source": [
    "Note that this is a nested composite type. Nontheless an array of these is packed, with each element taking three bytes. Here is a packed two-dimensional array of `Z4Group0`."
   ],
   "metadata": {}
  },
  {
   "outputs": [
    {
     "output_type": "execute_result",
     "data": {
      "text/plain": "3×5 Matrix{QuantumOps.Z4Group0s.Z4Group0}:\n -i  0   0   -1  -1\n +1  +i  +i  0   +i\n +1  0   0   +1  -1"
     },
     "metadata": {},
     "execution_count": 37
    }
   ],
   "cell_type": "code",
   "source": [
    "a = rand(Z4Group0, (3,5))\n",
    "a"
   ],
   "metadata": {},
   "execution_count": 37
  },
  {
   "outputs": [
    {
     "output_type": "execute_result",
     "data": {
      "text/plain": "45"
     },
     "metadata": {},
     "execution_count": 38
    }
   ],
   "cell_type": "code",
   "source": [
    "sizeof(a)  ## (3 x 5) x 3 bytes"
   ],
   "metadata": {},
   "execution_count": 38
  },
  {
   "cell_type": "markdown",
   "source": [
    "We see that computation with `Z4Group0` can be as fast as or faster than `Complex{Int}`."
   ],
   "metadata": {}
  },
  {
   "outputs": [
    {
     "name": "stdout",
     "output_type": "stream",
     "text": [
      "  64.255 μs (1 allocation: 16 bytes)\n"
     ]
    },
    {
     "output_type": "execute_result",
     "data": {
      "text/plain": "0"
     },
     "metadata": {},
     "execution_count": 39
    }
   ],
   "cell_type": "code",
   "source": [
    "a = rand(Z4Group0, 10^5);\n",
    "@btime reduce(*, a)"
   ],
   "metadata": {},
   "execution_count": 39
  },
  {
   "outputs": [
    {
     "name": "stdout",
     "output_type": "stream",
     "text": [
      "  131.234 μs (1 allocation: 32 bytes)\n"
     ]
    },
    {
     "output_type": "execute_result",
     "data": {
      "text/plain": "0 + 0im"
     },
     "metadata": {},
     "execution_count": 40
    }
   ],
   "cell_type": "code",
   "source": [
    "anum = [convert(Complex{Int}, x) for x in a];\n",
    "@btime reduce(*, anum)"
   ],
   "metadata": {},
   "execution_count": 40
  },
  {
   "cell_type": "markdown",
   "source": [
    "I use `Z4Group0` in Kronecker products."
   ],
   "metadata": {}
  },
  {
   "outputs": [
    {
     "output_type": "execute_result",
     "data": {
      "text/plain": "8×8 Matrix{QuantumOps.Z4Group0s.Z4Group0}:\n 0   0   0   0   0   0   -i  0\n 0   0   0   0   0   0   0   +i\n 0   0   0   0   +i  0   0   0\n 0   0   0   0   0   -i  0   0\n 0   0   -i  0   0   0   0   0\n 0   0   0   +i  0   0   0   0\n +i  0   0   0   0   0   0   0\n 0   -i  0   0   0   0   0   0"
     },
     "metadata": {},
     "execution_count": 41
    }
   ],
   "cell_type": "code",
   "source": [
    "kron([Z4Group0.(m) for m in Matrix.([X, Y, Z])]...)"
   ],
   "metadata": {},
   "execution_count": 41
  },
  {
   "outputs": [
    {
     "name": "stdout",
     "output_type": "stream",
     "text": [
      "YXZX"
     ]
    }
   ],
   "cell_type": "code",
   "source": [
    "operators = rand(Pauli, 4)\n",
    "print(operators)"
   ],
   "metadata": {},
   "execution_count": 42
  },
  {
   "outputs": [
    {
     "output_type": "execute_result",
     "data": {
      "text/plain": "(16, 16)"
     },
     "metadata": {},
     "execution_count": 43
    }
   ],
   "cell_type": "code",
   "source": [
    "mats = Matrix.(operators)\n",
    "z40mats = [Z4Group0.(m) for m in mats];\n",
    "\n",
    "size(kron(mats...))"
   ],
   "metadata": {},
   "execution_count": 43
  },
  {
   "outputs": [
    {
     "name": "stdout",
     "output_type": "stream",
     "text": [
      "  729.892 ns (3 allocations: 5.52 KiB)\n"
     ]
    }
   ],
   "cell_type": "code",
   "source": [
    "@btime kron($mats...);"
   ],
   "metadata": {},
   "execution_count": 44
  },
  {
   "outputs": [
    {
     "name": "stdout",
     "output_type": "stream",
     "text": [
      "  669.594 ns (3 allocations: 1.12 KiB)\n"
     ]
    }
   ],
   "cell_type": "code",
   "source": [
    "@btime kron($z40mats...);"
   ],
   "metadata": {},
   "execution_count": 45
  },
  {
   "cell_type": "markdown",
   "source": [
    "Here, the time to do the calcuations with usual 16-byte complex numbers is the same. But, when converting a `PauliSum` to a matrix I use `ThreadsX.sum` over the terms, which is a dropin replacement for `sum` that does intelligent threading. When I use `Z4Group0` I get a significant improvement in performance, perhaps because of fewer cache misses."
   ],
   "metadata": {}
  },
  {
   "cell_type": "markdown",
   "source": [
    "### sympy"
   ],
   "metadata": {}
  },
  {
   "outputs": [
    {
     "output_type": "execute_result",
     "data": {
      "text/plain": "(PyObject x, PyObject t)"
     },
     "metadata": {},
     "execution_count": 46
    }
   ],
   "cell_type": "code",
   "source": [
    "@pyimport sympy\n",
    "(x, t) = sympy.symbols(\"x t\")"
   ],
   "metadata": {},
   "execution_count": 46
  },
  {
   "cell_type": "markdown",
   "source": [
    "We use a symbolic coefficient"
   ],
   "metadata": {}
  },
  {
   "outputs": [
    {
     "output_type": "execute_result",
     "data": {
      "text/plain": "4-factor QuantumOps.PauliTerm{Vector{QuantumOps.Paulis.Pauli}, PyObject}:\nXXYZ * (PyObject t + x)"
     },
     "metadata": {},
     "execution_count": 47
    }
   ],
   "cell_type": "code",
   "source": [
    "term = PauliTerm(\"XXYZ\", x + t)"
   ],
   "metadata": {},
   "execution_count": 47
  },
  {
   "outputs": [
    {
     "output_type": "execute_result",
     "data": {
      "text/plain": "4-factor QuantumOps.PauliTerm{Vector{QuantumOps.Paulis.Pauli}, PyObject}:\nXXYZ * (PyObject (t + x)**3)"
     },
     "metadata": {},
     "execution_count": 48
    }
   ],
   "cell_type": "code",
   "source": [
    "term^3"
   ],
   "metadata": {},
   "execution_count": 48
  },
  {
   "cell_type": "markdown",
   "source": [
    "The type of coefficient is encoded in the type of the `PauliTerm`."
   ],
   "metadata": {}
  },
  {
   "outputs": [
    {
     "output_type": "execute_result",
     "data": {
      "text/plain": "PauliTerm{Vector{Pauli}, PyObject} (alias for QuantumOps.OpTerm{QuantumOps.Paulis.Pauli, Array{QuantumOps.Paulis.Pauli, 1}, PyObject})"
     },
     "metadata": {},
     "execution_count": 49
    }
   ],
   "cell_type": "code",
   "source": [
    "typeof(term)"
   ],
   "metadata": {},
   "execution_count": 49
  },
  {
   "cell_type": "markdown",
   "source": [
    "#### `Symbolics`\n",
    "\n",
    "This is another symbolic libarary."
   ],
   "metadata": {}
  },
  {
   "cell_type": "markdown",
   "source": [
    "The following is disabled because of errors due to changes in packages."
   ],
   "metadata": {}
  },
  {
   "cell_type": "markdown",
   "source": [
    "using Symbolics\n",
    "#----------------------------------------------------------------------------"
   ],
   "metadata": {}
  },
  {
   "cell_type": "markdown",
   "source": [
    "@variables a b c;\n",
    "#----------------------------------------------------------------------------"
   ],
   "metadata": {}
  },
  {
   "cell_type": "markdown",
   "source": [
    "# Create a `PauliSum` with symbolic coefficients"
   ],
   "metadata": {}
  },
  {
   "cell_type": "markdown",
   "source": [
    "term1 = PauliTerm(\"XZ\", a + b)\n",
    "term2 = PauliTerm(\"ZX\", b + c)"
   ],
   "metadata": {}
  },
  {
   "cell_type": "markdown",
   "source": [
    "psum = term1^3 + term2\n",
    "#----------------------------------------------------------------------------"
   ],
   "metadata": {}
  },
  {
   "cell_type": "markdown",
   "source": [
    "# We convert the `PauliSum` with symbolic coefficients to a `Matrix`.\n",
    "# No additional code is necessary to support this feature."
   ],
   "metadata": {}
  },
  {
   "cell_type": "markdown",
   "source": [
    "symmat = Matrix(psum)\n",
    "#----------------------------------------------------------------------------"
   ],
   "metadata": {}
  },
  {
   "cell_type": "markdown",
   "source": [
    "---\n",
    "\n",
    "*This notebook was generated using [Literate.jl](https://github.com/fredrikekre/Literate.jl).*"
   ],
   "metadata": {}
  }
 ],
 "nbformat_minor": 3,
 "metadata": {
  "language_info": {
   "file_extension": ".jl",
   "mimetype": "application/julia",
   "name": "julia",
   "version": "1.7.0"
  },
  "kernelspec": {
   "name": "julia-1.7",
   "display_name": "Julia 1.7.0",
   "language": "julia"
  }
 },
 "nbformat": 4
}
